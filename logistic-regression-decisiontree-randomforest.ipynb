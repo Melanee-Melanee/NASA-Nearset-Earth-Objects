{
 "cells": [
  {
   "cell_type": "code",
   "execution_count": 1,
   "id": "d1663eef",
   "metadata": {
    "_cell_guid": "b1076dfc-b9ad-4769-8c92-a6c4dae69d19",
    "_uuid": "8f2839f25d086af736a60e9eeb907d3b93b6e0e5",
    "execution": {
     "iopub.execute_input": "2022-07-16T15:20:19.374459Z",
     "iopub.status.busy": "2022-07-16T15:20:19.373798Z",
     "iopub.status.idle": "2022-07-16T15:20:19.398606Z",
     "shell.execute_reply": "2022-07-16T15:20:19.397488Z"
    },
    "papermill": {
     "duration": 0.043524,
     "end_time": "2022-07-16T15:20:19.401356",
     "exception": false,
     "start_time": "2022-07-16T15:20:19.357832",
     "status": "completed"
    },
    "tags": []
   },
   "outputs": [
    {
     "name": "stdout",
     "output_type": "stream",
     "text": [
      "/kaggle/input/nasa-nearest-earth-objects/neo_v2.csv\n",
      "/kaggle/input/nasa-nearest-earth-objects/neo.csv\n"
     ]
    }
   ],
   "source": [
    "# This Python 3 environment comes with many helpful analytics libraries installed\n",
    "# It is defined by the kaggle/python Docker image: https://github.com/kaggle/docker-python\n",
    "# For example, here's several helpful packages to load\n",
    "\n",
    "import numpy as np # linear algebra\n",
    "import pandas as pd # data processing, CSV file I/O (e.g. pd.read_csv)\n",
    "\n",
    "# Input data files are available in the read-only \"../input/\" directory\n",
    "# For example, running this (by clicking run or pressing Shift+Enter) will list all files under the input directory\n",
    "\n",
    "import os\n",
    "for dirname, _, filenames in os.walk('/kaggle/input'):\n",
    "    for filename in filenames:\n",
    "        print(os.path.join(dirname, filename))\n",
    "\n",
    "# You can write up to 20GB to the current directory (/kaggle/working/) that gets preserved as output when you create a version using \"Save & Run All\" \n",
    "# You can also write temporary files to /kaggle/temp/, but they won't be saved outside of the current session"
   ]
  },
  {
   "cell_type": "code",
   "execution_count": 2,
   "id": "ce373e3b",
   "metadata": {
    "execution": {
     "iopub.execute_input": "2022-07-16T15:20:19.430230Z",
     "iopub.status.busy": "2022-07-16T15:20:19.429826Z",
     "iopub.status.idle": "2022-07-16T15:20:20.466857Z",
     "shell.execute_reply": "2022-07-16T15:20:20.465528Z"
    },
    "papermill": {
     "duration": 1.054478,
     "end_time": "2022-07-16T15:20:20.469574",
     "exception": false,
     "start_time": "2022-07-16T15:20:19.415096",
     "status": "completed"
    },
    "tags": []
   },
   "outputs": [],
   "source": [
    "#Importing important libraries\n",
    "import pandas as pd\n",
    "import numpy as np\n",
    "import seaborn as sns\n",
    "from matplotlib import pyplot as plt\n",
    "import warnings\n",
    "warnings.filterwarnings('ignore')\n",
    "import scipy.stats as stats"
   ]
  },
  {
   "cell_type": "code",
   "execution_count": 3,
   "id": "b5f59287",
   "metadata": {
    "execution": {
     "iopub.execute_input": "2022-07-16T15:20:20.498567Z",
     "iopub.status.busy": "2022-07-16T15:20:20.498169Z",
     "iopub.status.idle": "2022-07-16T15:20:20.799868Z",
     "shell.execute_reply": "2022-07-16T15:20:20.798923Z"
    },
    "papermill": {
     "duration": 0.319097,
     "end_time": "2022-07-16T15:20:20.802303",
     "exception": false,
     "start_time": "2022-07-16T15:20:20.483206",
     "status": "completed"
    },
    "tags": []
   },
   "outputs": [],
   "source": [
    "df=pd.read_csv('/kaggle/input/nasa-nearest-earth-objects/neo_v2.csv')"
   ]
  },
  {
   "cell_type": "code",
   "execution_count": 4,
   "id": "d19f664b",
   "metadata": {
    "execution": {
     "iopub.execute_input": "2022-07-16T15:20:20.832368Z",
     "iopub.status.busy": "2022-07-16T15:20:20.831699Z",
     "iopub.status.idle": "2022-07-16T15:20:20.857821Z",
     "shell.execute_reply": "2022-07-16T15:20:20.856912Z"
    },
    "papermill": {
     "duration": 0.044327,
     "end_time": "2022-07-16T15:20:20.860454",
     "exception": false,
     "start_time": "2022-07-16T15:20:20.816127",
     "status": "completed"
    },
    "tags": []
   },
   "outputs": [
    {
     "data": {
      "text/html": [
       "<div>\n",
       "<style scoped>\n",
       "    .dataframe tbody tr th:only-of-type {\n",
       "        vertical-align: middle;\n",
       "    }\n",
       "\n",
       "    .dataframe tbody tr th {\n",
       "        vertical-align: top;\n",
       "    }\n",
       "\n",
       "    .dataframe thead th {\n",
       "        text-align: right;\n",
       "    }\n",
       "</style>\n",
       "<table border=\"1\" class=\"dataframe\">\n",
       "  <thead>\n",
       "    <tr style=\"text-align: right;\">\n",
       "      <th></th>\n",
       "      <th>id</th>\n",
       "      <th>name</th>\n",
       "      <th>est_diameter_min</th>\n",
       "      <th>est_diameter_max</th>\n",
       "      <th>relative_velocity</th>\n",
       "      <th>miss_distance</th>\n",
       "      <th>orbiting_body</th>\n",
       "      <th>sentry_object</th>\n",
       "      <th>absolute_magnitude</th>\n",
       "      <th>hazardous</th>\n",
       "    </tr>\n",
       "  </thead>\n",
       "  <tbody>\n",
       "    <tr>\n",
       "      <th>0</th>\n",
       "      <td>2162635</td>\n",
       "      <td>162635 (2000 SS164)</td>\n",
       "      <td>1.198271</td>\n",
       "      <td>2.679415</td>\n",
       "      <td>13569.249224</td>\n",
       "      <td>5.483974e+07</td>\n",
       "      <td>Earth</td>\n",
       "      <td>False</td>\n",
       "      <td>16.73</td>\n",
       "      <td>False</td>\n",
       "    </tr>\n",
       "    <tr>\n",
       "      <th>1</th>\n",
       "      <td>2277475</td>\n",
       "      <td>277475 (2005 WK4)</td>\n",
       "      <td>0.265800</td>\n",
       "      <td>0.594347</td>\n",
       "      <td>73588.726663</td>\n",
       "      <td>6.143813e+07</td>\n",
       "      <td>Earth</td>\n",
       "      <td>False</td>\n",
       "      <td>20.00</td>\n",
       "      <td>True</td>\n",
       "    </tr>\n",
       "    <tr>\n",
       "      <th>2</th>\n",
       "      <td>2512244</td>\n",
       "      <td>512244 (2015 YE18)</td>\n",
       "      <td>0.722030</td>\n",
       "      <td>1.614507</td>\n",
       "      <td>114258.692129</td>\n",
       "      <td>4.979872e+07</td>\n",
       "      <td>Earth</td>\n",
       "      <td>False</td>\n",
       "      <td>17.83</td>\n",
       "      <td>False</td>\n",
       "    </tr>\n",
       "    <tr>\n",
       "      <th>3</th>\n",
       "      <td>3596030</td>\n",
       "      <td>(2012 BV13)</td>\n",
       "      <td>0.096506</td>\n",
       "      <td>0.215794</td>\n",
       "      <td>24764.303138</td>\n",
       "      <td>2.543497e+07</td>\n",
       "      <td>Earth</td>\n",
       "      <td>False</td>\n",
       "      <td>22.20</td>\n",
       "      <td>False</td>\n",
       "    </tr>\n",
       "    <tr>\n",
       "      <th>4</th>\n",
       "      <td>3667127</td>\n",
       "      <td>(2014 GE35)</td>\n",
       "      <td>0.255009</td>\n",
       "      <td>0.570217</td>\n",
       "      <td>42737.733765</td>\n",
       "      <td>4.627557e+07</td>\n",
       "      <td>Earth</td>\n",
       "      <td>False</td>\n",
       "      <td>20.09</td>\n",
       "      <td>True</td>\n",
       "    </tr>\n",
       "  </tbody>\n",
       "</table>\n",
       "</div>"
      ],
      "text/plain": [
       "        id                 name  est_diameter_min  est_diameter_max  \\\n",
       "0  2162635  162635 (2000 SS164)          1.198271          2.679415   \n",
       "1  2277475    277475 (2005 WK4)          0.265800          0.594347   \n",
       "2  2512244   512244 (2015 YE18)          0.722030          1.614507   \n",
       "3  3596030          (2012 BV13)          0.096506          0.215794   \n",
       "4  3667127          (2014 GE35)          0.255009          0.570217   \n",
       "\n",
       "   relative_velocity  miss_distance orbiting_body  sentry_object  \\\n",
       "0       13569.249224   5.483974e+07         Earth          False   \n",
       "1       73588.726663   6.143813e+07         Earth          False   \n",
       "2      114258.692129   4.979872e+07         Earth          False   \n",
       "3       24764.303138   2.543497e+07         Earth          False   \n",
       "4       42737.733765   4.627557e+07         Earth          False   \n",
       "\n",
       "   absolute_magnitude  hazardous  \n",
       "0               16.73      False  \n",
       "1               20.00       True  \n",
       "2               17.83      False  \n",
       "3               22.20      False  \n",
       "4               20.09       True  "
      ]
     },
     "execution_count": 4,
     "metadata": {},
     "output_type": "execute_result"
    }
   ],
   "source": [
    "# First Five rows of the data\n",
    "df.head()"
   ]
  },
  {
   "cell_type": "code",
   "execution_count": 5,
   "id": "6d19ab51",
   "metadata": {
    "execution": {
     "iopub.execute_input": "2022-07-16T15:20:20.890240Z",
     "iopub.status.busy": "2022-07-16T15:20:20.889875Z",
     "iopub.status.idle": "2022-07-16T15:20:20.936803Z",
     "shell.execute_reply": "2022-07-16T15:20:20.935576Z"
    },
    "papermill": {
     "duration": 0.064734,
     "end_time": "2022-07-16T15:20:20.939624",
     "exception": false,
     "start_time": "2022-07-16T15:20:20.874890",
     "status": "completed"
    },
    "tags": []
   },
   "outputs": [
    {
     "name": "stdout",
     "output_type": "stream",
     "text": [
      "<class 'pandas.core.frame.DataFrame'>\n",
      "RangeIndex: 90836 entries, 0 to 90835\n",
      "Data columns (total 10 columns):\n",
      " #   Column              Non-Null Count  Dtype  \n",
      "---  ------              --------------  -----  \n",
      " 0   id                  90836 non-null  int64  \n",
      " 1   name                90836 non-null  object \n",
      " 2   est_diameter_min    90836 non-null  float64\n",
      " 3   est_diameter_max    90836 non-null  float64\n",
      " 4   relative_velocity   90836 non-null  float64\n",
      " 5   miss_distance       90836 non-null  float64\n",
      " 6   orbiting_body       90836 non-null  object \n",
      " 7   sentry_object       90836 non-null  bool   \n",
      " 8   absolute_magnitude  90836 non-null  float64\n",
      " 9   hazardous           90836 non-null  bool   \n",
      "dtypes: bool(2), float64(5), int64(1), object(2)\n",
      "memory usage: 5.7+ MB\n"
     ]
    }
   ],
   "source": [
    "# Info of the data\n",
    "df.info()"
   ]
  },
  {
   "cell_type": "code",
   "execution_count": 6,
   "id": "80f4614a",
   "metadata": {
    "execution": {
     "iopub.execute_input": "2022-07-16T15:20:20.969449Z",
     "iopub.status.busy": "2022-07-16T15:20:20.969066Z",
     "iopub.status.idle": "2022-07-16T15:20:21.025968Z",
     "shell.execute_reply": "2022-07-16T15:20:21.024822Z"
    },
    "papermill": {
     "duration": 0.074783,
     "end_time": "2022-07-16T15:20:21.028449",
     "exception": false,
     "start_time": "2022-07-16T15:20:20.953666",
     "status": "completed"
    },
    "tags": []
   },
   "outputs": [
    {
     "data": {
      "text/html": [
       "<div>\n",
       "<style scoped>\n",
       "    .dataframe tbody tr th:only-of-type {\n",
       "        vertical-align: middle;\n",
       "    }\n",
       "\n",
       "    .dataframe tbody tr th {\n",
       "        vertical-align: top;\n",
       "    }\n",
       "\n",
       "    .dataframe thead th {\n",
       "        text-align: right;\n",
       "    }\n",
       "</style>\n",
       "<table border=\"1\" class=\"dataframe\">\n",
       "  <thead>\n",
       "    <tr style=\"text-align: right;\">\n",
       "      <th></th>\n",
       "      <th>id</th>\n",
       "      <th>est_diameter_min</th>\n",
       "      <th>est_diameter_max</th>\n",
       "      <th>relative_velocity</th>\n",
       "      <th>miss_distance</th>\n",
       "      <th>absolute_magnitude</th>\n",
       "    </tr>\n",
       "  </thead>\n",
       "  <tbody>\n",
       "    <tr>\n",
       "      <th>count</th>\n",
       "      <td>9.083600e+04</td>\n",
       "      <td>90836.000000</td>\n",
       "      <td>90836.000000</td>\n",
       "      <td>90836.000000</td>\n",
       "      <td>9.083600e+04</td>\n",
       "      <td>90836.000000</td>\n",
       "    </tr>\n",
       "    <tr>\n",
       "      <th>mean</th>\n",
       "      <td>1.438288e+07</td>\n",
       "      <td>0.127432</td>\n",
       "      <td>0.284947</td>\n",
       "      <td>48066.918918</td>\n",
       "      <td>3.706655e+07</td>\n",
       "      <td>23.527103</td>\n",
       "    </tr>\n",
       "    <tr>\n",
       "      <th>std</th>\n",
       "      <td>2.087202e+07</td>\n",
       "      <td>0.298511</td>\n",
       "      <td>0.667491</td>\n",
       "      <td>25293.296961</td>\n",
       "      <td>2.235204e+07</td>\n",
       "      <td>2.894086</td>\n",
       "    </tr>\n",
       "    <tr>\n",
       "      <th>min</th>\n",
       "      <td>2.000433e+06</td>\n",
       "      <td>0.000609</td>\n",
       "      <td>0.001362</td>\n",
       "      <td>203.346433</td>\n",
       "      <td>6.745533e+03</td>\n",
       "      <td>9.230000</td>\n",
       "    </tr>\n",
       "    <tr>\n",
       "      <th>25%</th>\n",
       "      <td>3.448110e+06</td>\n",
       "      <td>0.019256</td>\n",
       "      <td>0.043057</td>\n",
       "      <td>28619.020645</td>\n",
       "      <td>1.721082e+07</td>\n",
       "      <td>21.340000</td>\n",
       "    </tr>\n",
       "    <tr>\n",
       "      <th>50%</th>\n",
       "      <td>3.748362e+06</td>\n",
       "      <td>0.048368</td>\n",
       "      <td>0.108153</td>\n",
       "      <td>44190.117890</td>\n",
       "      <td>3.784658e+07</td>\n",
       "      <td>23.700000</td>\n",
       "    </tr>\n",
       "    <tr>\n",
       "      <th>75%</th>\n",
       "      <td>3.884023e+06</td>\n",
       "      <td>0.143402</td>\n",
       "      <td>0.320656</td>\n",
       "      <td>62923.604633</td>\n",
       "      <td>5.654900e+07</td>\n",
       "      <td>25.700000</td>\n",
       "    </tr>\n",
       "    <tr>\n",
       "      <th>max</th>\n",
       "      <td>5.427591e+07</td>\n",
       "      <td>37.892650</td>\n",
       "      <td>84.730541</td>\n",
       "      <td>236990.128088</td>\n",
       "      <td>7.479865e+07</td>\n",
       "      <td>33.200000</td>\n",
       "    </tr>\n",
       "  </tbody>\n",
       "</table>\n",
       "</div>"
      ],
      "text/plain": [
       "                 id  est_diameter_min  est_diameter_max  relative_velocity  \\\n",
       "count  9.083600e+04      90836.000000      90836.000000       90836.000000   \n",
       "mean   1.438288e+07          0.127432          0.284947       48066.918918   \n",
       "std    2.087202e+07          0.298511          0.667491       25293.296961   \n",
       "min    2.000433e+06          0.000609          0.001362         203.346433   \n",
       "25%    3.448110e+06          0.019256          0.043057       28619.020645   \n",
       "50%    3.748362e+06          0.048368          0.108153       44190.117890   \n",
       "75%    3.884023e+06          0.143402          0.320656       62923.604633   \n",
       "max    5.427591e+07         37.892650         84.730541      236990.128088   \n",
       "\n",
       "       miss_distance  absolute_magnitude  \n",
       "count   9.083600e+04        90836.000000  \n",
       "mean    3.706655e+07           23.527103  \n",
       "std     2.235204e+07            2.894086  \n",
       "min     6.745533e+03            9.230000  \n",
       "25%     1.721082e+07           21.340000  \n",
       "50%     3.784658e+07           23.700000  \n",
       "75%     5.654900e+07           25.700000  \n",
       "max     7.479865e+07           33.200000  "
      ]
     },
     "execution_count": 6,
     "metadata": {},
     "output_type": "execute_result"
    }
   ],
   "source": [
    "# Summary Statistics\n",
    "df.describe()"
   ]
  },
  {
   "cell_type": "code",
   "execution_count": 7,
   "id": "1a5f534e",
   "metadata": {
    "execution": {
     "iopub.execute_input": "2022-07-16T15:20:21.058200Z",
     "iopub.status.busy": "2022-07-16T15:20:21.057394Z",
     "iopub.status.idle": "2022-07-16T15:20:21.088046Z",
     "shell.execute_reply": "2022-07-16T15:20:21.086898Z"
    },
    "papermill": {
     "duration": 0.048021,
     "end_time": "2022-07-16T15:20:21.090365",
     "exception": false,
     "start_time": "2022-07-16T15:20:21.042344",
     "status": "completed"
    },
    "tags": []
   },
   "outputs": [
    {
     "data": {
      "text/plain": [
       "id                    0\n",
       "name                  0\n",
       "est_diameter_min      0\n",
       "est_diameter_max      0\n",
       "relative_velocity     0\n",
       "miss_distance         0\n",
       "orbiting_body         0\n",
       "sentry_object         0\n",
       "absolute_magnitude    0\n",
       "hazardous             0\n",
       "dtype: int64"
      ]
     },
     "execution_count": 7,
     "metadata": {},
     "output_type": "execute_result"
    }
   ],
   "source": [
    "# Checking for missing values\n",
    "df.isnull().sum()\n",
    "# Data has no missing values"
   ]
  },
  {
   "cell_type": "code",
   "execution_count": 8,
   "id": "71c17ec2",
   "metadata": {
    "execution": {
     "iopub.execute_input": "2022-07-16T15:20:21.120148Z",
     "iopub.status.busy": "2022-07-16T15:20:21.119522Z",
     "iopub.status.idle": "2022-07-16T15:20:21.159408Z",
     "shell.execute_reply": "2022-07-16T15:20:21.158130Z"
    },
    "papermill": {
     "duration": 0.057468,
     "end_time": "2022-07-16T15:20:21.161749",
     "exception": false,
     "start_time": "2022-07-16T15:20:21.104281",
     "status": "completed"
    },
    "tags": []
   },
   "outputs": [
    {
     "data": {
      "text/html": [
       "<div>\n",
       "<style scoped>\n",
       "    .dataframe tbody tr th:only-of-type {\n",
       "        vertical-align: middle;\n",
       "    }\n",
       "\n",
       "    .dataframe tbody tr th {\n",
       "        vertical-align: top;\n",
       "    }\n",
       "\n",
       "    .dataframe thead th {\n",
       "        text-align: right;\n",
       "    }\n",
       "</style>\n",
       "<table border=\"1\" class=\"dataframe\">\n",
       "  <thead>\n",
       "    <tr style=\"text-align: right;\">\n",
       "      <th></th>\n",
       "      <th>id</th>\n",
       "      <th>est_diameter_min</th>\n",
       "      <th>est_diameter_max</th>\n",
       "      <th>relative_velocity</th>\n",
       "      <th>miss_distance</th>\n",
       "      <th>sentry_object</th>\n",
       "      <th>absolute_magnitude</th>\n",
       "      <th>hazardous</th>\n",
       "    </tr>\n",
       "  </thead>\n",
       "  <tbody>\n",
       "    <tr>\n",
       "      <th>id</th>\n",
       "      <td>1.000000</td>\n",
       "      <td>-0.148322</td>\n",
       "      <td>-0.148322</td>\n",
       "      <td>-0.059176</td>\n",
       "      <td>-0.056510</td>\n",
       "      <td>NaN</td>\n",
       "      <td>0.277258</td>\n",
       "      <td>-0.123443</td>\n",
       "    </tr>\n",
       "    <tr>\n",
       "      <th>est_diameter_min</th>\n",
       "      <td>-0.148322</td>\n",
       "      <td>1.000000</td>\n",
       "      <td>1.000000</td>\n",
       "      <td>0.221553</td>\n",
       "      <td>0.142241</td>\n",
       "      <td>NaN</td>\n",
       "      <td>-0.560188</td>\n",
       "      <td>0.183363</td>\n",
       "    </tr>\n",
       "    <tr>\n",
       "      <th>est_diameter_max</th>\n",
       "      <td>-0.148322</td>\n",
       "      <td>1.000000</td>\n",
       "      <td>1.000000</td>\n",
       "      <td>0.221553</td>\n",
       "      <td>0.142241</td>\n",
       "      <td>NaN</td>\n",
       "      <td>-0.560188</td>\n",
       "      <td>0.183363</td>\n",
       "    </tr>\n",
       "    <tr>\n",
       "      <th>relative_velocity</th>\n",
       "      <td>-0.059176</td>\n",
       "      <td>0.221553</td>\n",
       "      <td>0.221553</td>\n",
       "      <td>1.000000</td>\n",
       "      <td>0.327169</td>\n",
       "      <td>NaN</td>\n",
       "      <td>-0.353863</td>\n",
       "      <td>0.191185</td>\n",
       "    </tr>\n",
       "    <tr>\n",
       "      <th>miss_distance</th>\n",
       "      <td>-0.056510</td>\n",
       "      <td>0.142241</td>\n",
       "      <td>0.142241</td>\n",
       "      <td>0.327169</td>\n",
       "      <td>1.000000</td>\n",
       "      <td>NaN</td>\n",
       "      <td>-0.264168</td>\n",
       "      <td>0.042302</td>\n",
       "    </tr>\n",
       "    <tr>\n",
       "      <th>sentry_object</th>\n",
       "      <td>NaN</td>\n",
       "      <td>NaN</td>\n",
       "      <td>NaN</td>\n",
       "      <td>NaN</td>\n",
       "      <td>NaN</td>\n",
       "      <td>NaN</td>\n",
       "      <td>NaN</td>\n",
       "      <td>NaN</td>\n",
       "    </tr>\n",
       "    <tr>\n",
       "      <th>absolute_magnitude</th>\n",
       "      <td>0.277258</td>\n",
       "      <td>-0.560188</td>\n",
       "      <td>-0.560188</td>\n",
       "      <td>-0.353863</td>\n",
       "      <td>-0.264168</td>\n",
       "      <td>NaN</td>\n",
       "      <td>1.000000</td>\n",
       "      <td>-0.365267</td>\n",
       "    </tr>\n",
       "    <tr>\n",
       "      <th>hazardous</th>\n",
       "      <td>-0.123443</td>\n",
       "      <td>0.183363</td>\n",
       "      <td>0.183363</td>\n",
       "      <td>0.191185</td>\n",
       "      <td>0.042302</td>\n",
       "      <td>NaN</td>\n",
       "      <td>-0.365267</td>\n",
       "      <td>1.000000</td>\n",
       "    </tr>\n",
       "  </tbody>\n",
       "</table>\n",
       "</div>"
      ],
      "text/plain": [
       "                          id  est_diameter_min  est_diameter_max  \\\n",
       "id                  1.000000         -0.148322         -0.148322   \n",
       "est_diameter_min   -0.148322          1.000000          1.000000   \n",
       "est_diameter_max   -0.148322          1.000000          1.000000   \n",
       "relative_velocity  -0.059176          0.221553          0.221553   \n",
       "miss_distance      -0.056510          0.142241          0.142241   \n",
       "sentry_object            NaN               NaN               NaN   \n",
       "absolute_magnitude  0.277258         -0.560188         -0.560188   \n",
       "hazardous          -0.123443          0.183363          0.183363   \n",
       "\n",
       "                    relative_velocity  miss_distance  sentry_object  \\\n",
       "id                          -0.059176      -0.056510            NaN   \n",
       "est_diameter_min             0.221553       0.142241            NaN   \n",
       "est_diameter_max             0.221553       0.142241            NaN   \n",
       "relative_velocity            1.000000       0.327169            NaN   \n",
       "miss_distance                0.327169       1.000000            NaN   \n",
       "sentry_object                     NaN            NaN            NaN   \n",
       "absolute_magnitude          -0.353863      -0.264168            NaN   \n",
       "hazardous                    0.191185       0.042302            NaN   \n",
       "\n",
       "                    absolute_magnitude  hazardous  \n",
       "id                            0.277258  -0.123443  \n",
       "est_diameter_min             -0.560188   0.183363  \n",
       "est_diameter_max             -0.560188   0.183363  \n",
       "relative_velocity            -0.353863   0.191185  \n",
       "miss_distance                -0.264168   0.042302  \n",
       "sentry_object                      NaN        NaN  \n",
       "absolute_magnitude            1.000000  -0.365267  \n",
       "hazardous                    -0.365267   1.000000  "
      ]
     },
     "execution_count": 8,
     "metadata": {},
     "output_type": "execute_result"
    }
   ],
   "source": [
    "# Co-relation DataFrame\n",
    "df.corr()"
   ]
  },
  {
   "cell_type": "code",
   "execution_count": 9,
   "id": "5496f747",
   "metadata": {
    "execution": {
     "iopub.execute_input": "2022-07-16T15:20:21.192584Z",
     "iopub.status.busy": "2022-07-16T15:20:21.191665Z",
     "iopub.status.idle": "2022-07-16T15:20:21.530410Z",
     "shell.execute_reply": "2022-07-16T15:20:21.529297Z"
    },
    "papermill": {
     "duration": 0.356862,
     "end_time": "2022-07-16T15:20:21.532979",
     "exception": false,
     "start_time": "2022-07-16T15:20:21.176117",
     "status": "completed"
    },
    "tags": []
   },
   "outputs": [
    {
     "data": {
      "image/png": "[encoded data removed]",
      "text/plain": [
       "<Figure size 432x288 with 2 Axes>"
      ]
     },
     "metadata": {
      "needs_background": "light"
     },
     "output_type": "display_data"
    }
   ],
   "source": [
    "sns.heatmap(df.corr(),cmap='YlGnBu')\n",
    "plt.show()"
   ]
  },
  {
   "cell_type": "code",
   "execution_count": 10,
   "id": "cd083404",
   "metadata": {
    "execution": {
     "iopub.execute_input": "2022-07-16T15:20:21.564783Z",
     "iopub.status.busy": "2022-07-16T15:20:21.563987Z",
     "iopub.status.idle": "2022-07-16T15:20:21.572791Z",
     "shell.execute_reply": "2022-07-16T15:20:21.572030Z"
    },
    "papermill": {
     "duration": 0.027178,
     "end_time": "2022-07-16T15:20:21.575076",
     "exception": false,
     "start_time": "2022-07-16T15:20:21.547898",
     "status": "completed"
    },
    "tags": []
   },
   "outputs": [],
   "source": [
    "# Based on observations from the heatmap\n",
    "# Dropping columns Sentry_object and Orbiting_body\n",
    "# Reason for this is that every entry is Sentry_object is given as False and every entry in orbiting_body is given as Earth\n",
    "# So it makes sense into dropping these variables\n",
    "df.drop(columns=['sentry_object','orbiting_body'],inplace=True)"
   ]
  },
  {
   "cell_type": "markdown",
   "id": "b3f6dd13",
   "metadata": {
    "papermill": {
     "duration": 0.014288,
     "end_time": "2022-07-16T15:20:21.603953",
     "exception": false,
     "start_time": "2022-07-16T15:20:21.589665",
     "status": "completed"
    },
    "tags": []
   },
   "source": [
    "## Univariate Analysis"
   ]
  },
  {
   "cell_type": "code",
   "execution_count": 11,
   "id": "9530ae1b",
   "metadata": {
    "execution": {
     "iopub.execute_input": "2022-07-16T15:20:21.634972Z",
     "iopub.status.busy": "2022-07-16T15:20:21.634255Z",
     "iopub.status.idle": "2022-07-16T15:20:21.646607Z",
     "shell.execute_reply": "2022-07-16T15:20:21.645587Z"
    },
    "papermill": {
     "duration": 0.030546,
     "end_time": "2022-07-16T15:20:21.648925",
     "exception": false,
     "start_time": "2022-07-16T15:20:21.618379",
     "status": "completed"
    },
    "tags": []
   },
   "outputs": [
    {
     "data": {
      "text/plain": [
       "Index(['est_diameter_min', 'est_diameter_max', 'relative_velocity',\n",
       "       'miss_distance', 'absolute_magnitude'],\n",
       "      dtype='object')"
      ]
     },
     "execution_count": 11,
     "metadata": {},
     "output_type": "execute_result"
    }
   ],
   "source": [
    "df.select_dtypes(include=np.number).drop(columns='id').columns"
   ]
  },
  {
   "cell_type": "code",
   "execution_count": 12,
   "id": "7fa5272c",
   "metadata": {
    "execution": {
     "iopub.execute_input": "2022-07-16T15:20:21.680637Z",
     "iopub.status.busy": "2022-07-16T15:20:21.680267Z",
     "iopub.status.idle": "2022-07-16T15:20:21.684942Z",
     "shell.execute_reply": "2022-07-16T15:20:21.683947Z"
    },
    "papermill": {
     "duration": 0.023162,
     "end_time": "2022-07-16T15:20:21.687146",
     "exception": false,
     "start_time": "2022-07-16T15:20:21.663984",
     "status": "completed"
    },
    "tags": []
   },
   "outputs": [],
   "source": [
    "nums=['est_diameter_min', 'est_diameter_max', 'relative_velocity',\n",
    "       'miss_distance', 'absolute_magnitude'] # Numerical columns"
   ]
  },
  {
   "cell_type": "code",
   "execution_count": 13,
   "id": "0c3a0d49",
   "metadata": {
    "execution": {
     "iopub.execute_input": "2022-07-16T15:20:21.718805Z",
     "iopub.status.busy": "2022-07-16T15:20:21.718411Z",
     "iopub.status.idle": "2022-07-16T15:20:24.901113Z",
     "shell.execute_reply": "2022-07-16T15:20:24.899972Z"
    },
    "papermill": {
     "duration": 3.201741,
     "end_time": "2022-07-16T15:20:24.903784",
     "exception": false,
     "start_time": "2022-07-16T15:20:21.702043",
     "status": "completed"
    },
    "tags": []
   },
   "outputs": [
    {
     "data": {
      "image/png": "[encoded data removed]",
      "text/plain": [
       "<Figure size 720x576 with 5 Axes>"
      ]
     },
     "metadata": {
      "needs_background": "light"
     },
     "output_type": "display_data"
    }
   ],
   "source": [
    "# Making mulptiple subplots\n",
    "rows=3\n",
    "cols=2\n",
    "counter=1\n",
    "plt.rcParams['figure.figsize']=[10,8]\n",
    "for i in nums:\n",
    "    plt.subplot(rows,cols,counter)\n",
    "    sns.distplot(df[i])\n",
    "    counter+=1\n",
    "plt.tight_layout()\n",
    "plt.show()"
   ]
  },
  {
   "cell_type": "code",
   "execution_count": 14,
   "id": "8738c8a1",
   "metadata": {
    "execution": {
     "iopub.execute_input": "2022-07-16T15:20:24.937927Z",
     "iopub.status.busy": "2022-07-16T15:20:24.937534Z",
     "iopub.status.idle": "2022-07-16T15:20:25.116383Z",
     "shell.execute_reply": "2022-07-16T15:20:25.115259Z"
    },
    "papermill": {
     "duration": 0.199198,
     "end_time": "2022-07-16T15:20:25.118959",
     "exception": false,
     "start_time": "2022-07-16T15:20:24.919761",
     "status": "completed"
    },
    "tags": []
   },
   "outputs": [
    {
     "data": {
      "image/png": "[encoded data removed]",
      "text/plain": [
       "<Figure size 720x576 with 1 Axes>"
      ]
     },
     "metadata": {
      "needs_background": "light"
     },
     "output_type": "display_data"
    }
   ],
   "source": [
    "sns.countplot(x='hazardous',data=df)\n",
    "plt.show()"
   ]
  },
  {
   "cell_type": "markdown",
   "id": "7dfbec6d",
   "metadata": {
    "papermill": {
     "duration": 0.015757,
     "end_time": "2022-07-16T15:20:25.150544",
     "exception": false,
     "start_time": "2022-07-16T15:20:25.134787",
     "status": "completed"
    },
    "tags": []
   },
   "source": [
    "### Inferences From the subplots\n",
    "\n",
    "* Estimated minimum Diameter and estimated maximum Diameter are highly positively skewed with sharp spike at on end, indicating the presence of outliers\n",
    "* Relative Velocity is mildly positive skewed\n",
    "* miss_distance is uniform over the data\n",
    "* Absolute magnitude is the closest one to a normal distribution curve\n",
    "* There are a lot more non-hazardous object than hazardous"
   ]
  },
  {
   "cell_type": "markdown",
   "id": "cd751b01",
   "metadata": {
    "papermill": {
     "duration": 0.016182,
     "end_time": "2022-07-16T15:20:25.182754",
     "exception": false,
     "start_time": "2022-07-16T15:20:25.166572",
     "status": "completed"
    },
    "tags": []
   },
   "source": [
    "## Bivariate Analysis"
   ]
  },
  {
   "cell_type": "code",
   "execution_count": 15,
   "id": "88984e8c",
   "metadata": {
    "execution": {
     "iopub.execute_input": "2022-07-16T15:20:25.217568Z",
     "iopub.status.busy": "2022-07-16T15:20:25.216784Z",
     "iopub.status.idle": "2022-07-16T15:20:25.231954Z",
     "shell.execute_reply": "2022-07-16T15:20:25.230979Z"
    },
    "papermill": {
     "duration": 0.03534,
     "end_time": "2022-07-16T15:20:25.234297",
     "exception": false,
     "start_time": "2022-07-16T15:20:25.198957",
     "status": "completed"
    },
    "tags": []
   },
   "outputs": [
    {
     "data": {
      "text/plain": [
       "Index(['est_diameter_min', 'est_diameter_max', 'relative_velocity',\n",
       "       'miss_distance', 'absolute_magnitude'],\n",
       "      dtype='object')"
      ]
     },
     "execution_count": 15,
     "metadata": {},
     "output_type": "execute_result"
    }
   ],
   "source": [
    "df.select_dtypes(include=np.number).drop(columns='id').columns"
   ]
  },
  {
   "cell_type": "code",
   "execution_count": 16,
   "id": "1bcf5dc3",
   "metadata": {
    "execution": {
     "iopub.execute_input": "2022-07-16T15:20:25.269263Z",
     "iopub.status.busy": "2022-07-16T15:20:25.268528Z",
     "iopub.status.idle": "2022-07-16T15:20:25.273594Z",
     "shell.execute_reply": "2022-07-16T15:20:25.272804Z"
    },
    "papermill": {
     "duration": 0.025168,
     "end_time": "2022-07-16T15:20:25.276126",
     "exception": false,
     "start_time": "2022-07-16T15:20:25.250958",
     "status": "completed"
    },
    "tags": []
   },
   "outputs": [],
   "source": [
    "nums=['est_diameter_min', 'est_diameter_max', 'relative_velocity',\n",
    "       'miss_distance', 'absolute_magnitude']#numerical columns"
   ]
  },
  {
   "cell_type": "code",
   "execution_count": 17,
   "id": "65bb36ba",
   "metadata": {
    "execution": {
     "iopub.execute_input": "2022-07-16T15:20:25.311409Z",
     "iopub.status.busy": "2022-07-16T15:20:25.310494Z",
     "iopub.status.idle": "2022-07-16T15:20:26.036175Z",
     "shell.execute_reply": "2022-07-16T15:20:26.035239Z"
    },
    "papermill": {
     "duration": 0.746509,
     "end_time": "2022-07-16T15:20:26.039433",
     "exception": false,
     "start_time": "2022-07-16T15:20:25.292924",
     "status": "completed"
    },
    "tags": []
   },
   "outputs": [
    {
     "data": {
      "image/png": "[encoded data removed]",
      "text/plain": [
       "<Figure size 720x576 with 5 Axes>"
      ]
     },
     "metadata": {
      "needs_background": "light"
     },
     "output_type": "display_data"
    }
   ],
   "source": [
    "# Making subplots for multiple boxplots and comparing with our target variable\n",
    "\n",
    "rows=3\n",
    "cols=2\n",
    "counter=1\n",
    "plt.rcParams['figure.figsize']=[10,8]\n",
    "for i in nums:\n",
    "    plt.subplot(rows,cols,counter)\n",
    "    sns.boxplot(x='hazardous',y=i,data=df)\n",
    "    counter+=1\n",
    "    \n",
    "plt.tight_layout()\n",
    "plt.show()"
   ]
  },
  {
   "cell_type": "markdown",
   "id": "45e4bf1e",
   "metadata": {
    "papermill": {
     "duration": 0.016739,
     "end_time": "2022-07-16T15:20:26.073536",
     "exception": false,
     "start_time": "2022-07-16T15:20:26.056797",
     "status": "completed"
    },
    "tags": []
   },
   "source": [
    "### Inferences from the boxplots:\n",
    "\n",
    "* Non-Hazardous objects have a higher estimated minimum and maximum diameter\n",
    "* Our Hypothesis is that Hazardous objects have a higher relative_velocity\n",
    "* It seems that hazardous objects have a slightly higher miss_distance\n",
    "* The graphs indicate that Non-Hazardous objects have considerably higher absolute_magnitude."
   ]
  },
  {
   "cell_type": "code",
   "execution_count": 18,
   "id": "9b242613",
   "metadata": {
    "execution": {
     "iopub.execute_input": "2022-07-16T15:20:26.110145Z",
     "iopub.status.busy": "2022-07-16T15:20:26.109400Z",
     "iopub.status.idle": "2022-07-16T15:20:26.428540Z",
     "shell.execute_reply": "2022-07-16T15:20:26.427377Z"
    },
    "papermill": {
     "duration": 0.340915,
     "end_time": "2022-07-16T15:20:26.431262",
     "exception": false,
     "start_time": "2022-07-16T15:20:26.090347",
     "status": "completed"
    },
    "tags": []
   },
   "outputs": [],
   "source": [
    "# Extracting year from name to see later on whether we could have a paatern\n",
    "df[['drop','work']]=df.name.str.split('(',expand=True)"
   ]
  },
  {
   "cell_type": "code",
   "execution_count": 19,
   "id": "112cb928",
   "metadata": {
    "execution": {
     "iopub.execute_input": "2022-07-16T15:20:26.467040Z",
     "iopub.status.busy": "2022-07-16T15:20:26.466261Z",
     "iopub.status.idle": "2022-07-16T15:20:26.482623Z",
     "shell.execute_reply": "2022-07-16T15:20:26.481720Z"
    },
    "papermill": {
     "duration": 0.036922,
     "end_time": "2022-07-16T15:20:26.485046",
     "exception": false,
     "start_time": "2022-07-16T15:20:26.448124",
     "status": "completed"
    },
    "tags": []
   },
   "outputs": [],
   "source": [
    "# Dropping the unnecessary extra column we made\n",
    "df.drop(columns='drop',inplace=True)"
   ]
  },
  {
   "cell_type": "code",
   "execution_count": 20,
   "id": "1df1df15",
   "metadata": {
    "execution": {
     "iopub.execute_input": "2022-07-16T15:20:26.521802Z",
     "iopub.status.busy": "2022-07-16T15:20:26.520692Z",
     "iopub.status.idle": "2022-07-16T15:20:26.584686Z",
     "shell.execute_reply": "2022-07-16T15:20:26.583578Z"
    },
    "papermill": {
     "duration": 0.084998,
     "end_time": "2022-07-16T15:20:26.587527",
     "exception": false,
     "start_time": "2022-07-16T15:20:26.502529",
     "status": "completed"
    },
    "tags": []
   },
   "outputs": [],
   "source": [
    "def year_extract(x):\n",
    "    return x.strip()[0:x.strip().index(' ')]\n",
    "df['year']=df['work'].apply(year_extract)"
   ]
  },
  {
   "cell_type": "code",
   "execution_count": 21,
   "id": "b2473c07",
   "metadata": {
    "execution": {
     "iopub.execute_input": "2022-07-16T15:20:26.623635Z",
     "iopub.status.busy": "2022-07-16T15:20:26.623242Z",
     "iopub.status.idle": "2022-07-16T15:20:26.640472Z",
     "shell.execute_reply": "2022-07-16T15:20:26.639373Z"
    },
    "papermill": {
     "duration": 0.038536,
     "end_time": "2022-07-16T15:20:26.643048",
     "exception": false,
     "start_time": "2022-07-16T15:20:26.604512",
     "status": "completed"
    },
    "tags": []
   },
   "outputs": [
    {
     "data": {
      "text/plain": [
       "array(['2000', '2005', '2015', '2012', '2014', '2021', '2001', '2016',\n",
       "       '2020', '2022', '2017', '2018', '2019', '2003', '2006', '2013',\n",
       "       '1994', '1998', '1978', '1984', '1980', '2007', '2009', '2011',\n",
       "       '1991', '2004', '2002', '2010', '1990', '2008', '1999', '1993',\n",
       "       '1997', '1995', '1951', '1950', '1996', '1986', '1992', '1987',\n",
       "       '1971', '1989', '1960', '1982', '1953', 'A911', '1976', '1973',\n",
       "       '1936', '1988', '1977', '1937', '1985', '1948', '6743', '1983',\n",
       "       'A898', '1949', '1974', '1932', '1972', '4788', '6344', '1968',\n",
       "       '1981', '1979', 'A924', '1947', '1959', '1975', '1929', 'A/2019',\n",
       "       '1963'], dtype=object)"
      ]
     },
     "execution_count": 21,
     "metadata": {},
     "output_type": "execute_result"
    }
   ],
   "source": [
    "df['year'].unique()"
   ]
  },
  {
   "cell_type": "code",
   "execution_count": 22,
   "id": "66005db0",
   "metadata": {
    "execution": {
     "iopub.execute_input": "2022-07-16T15:20:26.679341Z",
     "iopub.status.busy": "2022-07-16T15:20:26.678893Z",
     "iopub.status.idle": "2022-07-16T15:20:26.683428Z",
     "shell.execute_reply": "2022-07-16T15:20:26.682573Z"
    },
    "papermill": {
     "duration": 0.025008,
     "end_time": "2022-07-16T15:20:26.685508",
     "exception": false,
     "start_time": "2022-07-16T15:20:26.660500",
     "status": "completed"
    },
    "tags": []
   },
   "outputs": [],
   "source": [
    "# [A911,6743,A898,4788,6344,A924,A/2019] --> Years to be changed "
   ]
  },
  {
   "cell_type": "code",
   "execution_count": 23,
   "id": "9addd3ee",
   "metadata": {
    "execution": {
     "iopub.execute_input": "2022-07-16T15:20:26.720794Z",
     "iopub.status.busy": "2022-07-16T15:20:26.720440Z",
     "iopub.status.idle": "2022-07-16T15:20:26.855305Z",
     "shell.execute_reply": "2022-07-16T15:20:26.854159Z"
    },
    "papermill": {
     "duration": 0.155767,
     "end_time": "2022-07-16T15:20:26.858207",
     "exception": false,
     "start_time": "2022-07-16T15:20:26.702440",
     "status": "completed"
    },
    "tags": []
   },
   "outputs": [],
   "source": [
    "df.loc[df.year=='A911','year']='1911' \n",
    "df.loc[df.year=='6743','year']='1960'\n",
    "df.loc[df.year=='A898','year']='1898'\n",
    "df.loc[df.year=='6344','year']='1960'\n",
    "df.loc[df.year=='A924','year']='1924'\n",
    "df.loc[df.year=='A/2019','year']='2019'\n",
    "df.loc[df.year=='4788','year']='1960'"
   ]
  },
  {
   "cell_type": "code",
   "execution_count": 24,
   "id": "6097bf1f",
   "metadata": {
    "execution": {
     "iopub.execute_input": "2022-07-16T15:20:26.895363Z",
     "iopub.status.busy": "2022-07-16T15:20:26.894932Z",
     "iopub.status.idle": "2022-07-16T15:20:26.911966Z",
     "shell.execute_reply": "2022-07-16T15:20:26.910749Z"
    },
    "papermill": {
     "duration": 0.038782,
     "end_time": "2022-07-16T15:20:26.914365",
     "exception": false,
     "start_time": "2022-07-16T15:20:26.875583",
     "status": "completed"
    },
    "tags": []
   },
   "outputs": [
    {
     "data": {
      "text/plain": [
       "array(['2000', '2005', '2015', '2012', '2014', '2021', '2001', '2016',\n",
       "       '2020', '2022', '2017', '2018', '2019', '2003', '2006', '2013',\n",
       "       '1994', '1998', '1978', '1984', '1980', '2007', '2009', '2011',\n",
       "       '1991', '2004', '2002', '2010', '1990', '2008', '1999', '1993',\n",
       "       '1997', '1995', '1951', '1950', '1996', '1986', '1992', '1987',\n",
       "       '1971', '1989', '1960', '1982', '1953', '1911', '1976', '1973',\n",
       "       '1936', '1988', '1977', '1937', '1985', '1948', '1983', '1898',\n",
       "       '1949', '1974', '1932', '1972', '1968', '1981', '1979', '1924',\n",
       "       '1947', '1959', '1975', '1929', '1963'], dtype=object)"
      ]
     },
     "execution_count": 24,
     "metadata": {},
     "output_type": "execute_result"
    }
   ],
   "source": [
    "df.year.unique()"
   ]
  },
  {
   "cell_type": "code",
   "execution_count": 25,
   "id": "d36e12f9",
   "metadata": {
    "execution": {
     "iopub.execute_input": "2022-07-16T15:20:26.950252Z",
     "iopub.status.busy": "2022-07-16T15:20:26.949470Z",
     "iopub.status.idle": "2022-07-16T15:20:26.975502Z",
     "shell.execute_reply": "2022-07-16T15:20:26.974672Z"
    },
    "papermill": {
     "duration": 0.047185,
     "end_time": "2022-07-16T15:20:26.978371",
     "exception": false,
     "start_time": "2022-07-16T15:20:26.931186",
     "status": "completed"
    },
    "tags": []
   },
   "outputs": [],
   "source": [
    "df.year=df.year.astype(int) # Converting into int to check distribution"
   ]
  },
  {
   "cell_type": "code",
   "execution_count": 26,
   "id": "c6e2c960",
   "metadata": {
    "execution": {
     "iopub.execute_input": "2022-07-16T15:20:27.014888Z",
     "iopub.status.busy": "2022-07-16T15:20:27.014138Z",
     "iopub.status.idle": "2022-07-16T15:20:27.684471Z",
     "shell.execute_reply": "2022-07-16T15:20:27.683212Z"
    },
    "papermill": {
     "duration": 0.691124,
     "end_time": "2022-07-16T15:20:27.686977",
     "exception": false,
     "start_time": "2022-07-16T15:20:26.995853",
     "status": "completed"
    },
    "tags": []
   },
   "outputs": [
    {
     "data": {
      "image/png": "[encoded data removed]",
      "text/plain": [
       "<Figure size 720x576 with 1 Axes>"
      ]
     },
     "metadata": {
      "needs_background": "light"
     },
     "output_type": "display_data"
    }
   ],
   "source": [
    "sns.distplot(df.year)\n",
    "plt.show()"
   ]
  },
  {
   "cell_type": "code",
   "execution_count": 27,
   "id": "47cdf619",
   "metadata": {
    "execution": {
     "iopub.execute_input": "2022-07-16T15:20:27.723313Z",
     "iopub.status.busy": "2022-07-16T15:20:27.722566Z",
     "iopub.status.idle": "2022-07-16T15:20:27.735324Z",
     "shell.execute_reply": "2022-07-16T15:20:27.734334Z"
    },
    "papermill": {
     "duration": 0.033541,
     "end_time": "2022-07-16T15:20:27.737776",
     "exception": false,
     "start_time": "2022-07-16T15:20:27.704235",
     "status": "completed"
    },
    "tags": []
   },
   "outputs": [],
   "source": [
    "# Dropping the extra column we made\n",
    "df.drop(columns=['work'],inplace=True)"
   ]
  },
  {
   "cell_type": "code",
   "execution_count": 28,
   "id": "19681775",
   "metadata": {
    "execution": {
     "iopub.execute_input": "2022-07-16T15:20:27.774897Z",
     "iopub.status.busy": "2022-07-16T15:20:27.774185Z",
     "iopub.status.idle": "2022-07-16T15:20:28.083949Z",
     "shell.execute_reply": "2022-07-16T15:20:28.083100Z"
    },
    "papermill": {
     "duration": 0.330517,
     "end_time": "2022-07-16T15:20:28.086234",
     "exception": false,
     "start_time": "2022-07-16T15:20:27.755717",
     "status": "completed"
    },
    "tags": []
   },
   "outputs": [
    {
     "data": {
      "image/png": "[encoded data removed]",
      "text/plain": [
       "<Figure size 720x576 with 1 Axes>"
      ]
     },
     "metadata": {
      "needs_background": "light"
     },
     "output_type": "display_data"
    }
   ],
   "source": [
    "sns.boxplot(x='hazardous',y='year',data=df)\n",
    "plt.show()"
   ]
  },
  {
   "cell_type": "markdown",
   "id": "76600da6",
   "metadata": {
    "papermill": {
     "duration": 0.017034,
     "end_time": "2022-07-16T15:20:28.120622",
     "exception": false,
     "start_time": "2022-07-16T15:20:28.103588",
     "status": "completed"
    },
    "tags": []
   },
   "source": [
    "### Inference from the boxplot\n",
    "\n",
    "* Hazardous objects were mostly discovered between around 2002 to before 2020\n",
    "* There were many non-hazardous objects discovered pre-1980s"
   ]
  },
  {
   "cell_type": "markdown",
   "id": "dbad03c4",
   "metadata": {
    "papermill": {
     "duration": 0.01705,
     "end_time": "2022-07-16T15:20:28.154973",
     "exception": false,
     "start_time": "2022-07-16T15:20:28.137923",
     "status": "completed"
    },
    "tags": []
   },
   "source": [
    "## Feature Engineering"
   ]
  },
  {
   "cell_type": "code",
   "execution_count": 29,
   "id": "efeae6aa",
   "metadata": {
    "execution": {
     "iopub.execute_input": "2022-07-16T15:20:28.192585Z",
     "iopub.status.busy": "2022-07-16T15:20:28.191593Z",
     "iopub.status.idle": "2022-07-16T15:20:28.199611Z",
     "shell.execute_reply": "2022-07-16T15:20:28.198819Z"
    },
    "papermill": {
     "duration": 0.029415,
     "end_time": "2022-07-16T15:20:28.201939",
     "exception": false,
     "start_time": "2022-07-16T15:20:28.172524",
     "status": "completed"
    },
    "tags": []
   },
   "outputs": [],
   "source": [
    "# Dropping more unnecessary columns as they have no effect on hazardous\n",
    "df.drop(columns=['id','name'],inplace=True)"
   ]
  },
  {
   "cell_type": "code",
   "execution_count": 30,
   "id": "14359653",
   "metadata": {
    "execution": {
     "iopub.execute_input": "2022-07-16T15:20:28.238879Z",
     "iopub.status.busy": "2022-07-16T15:20:28.238122Z",
     "iopub.status.idle": "2022-07-16T15:20:28.280498Z",
     "shell.execute_reply": "2022-07-16T15:20:28.279585Z"
    },
    "papermill": {
     "duration": 0.063632,
     "end_time": "2022-07-16T15:20:28.282911",
     "exception": false,
     "start_time": "2022-07-16T15:20:28.219279",
     "status": "completed"
    },
    "tags": []
   },
   "outputs": [],
   "source": [
    "# Replacing True with 1 and false with 0 in hazardous\n",
    "df['hazardous'].replace(to_replace=[True,False],value=[1,0],inplace=True)"
   ]
  },
  {
   "cell_type": "code",
   "execution_count": 31,
   "id": "5ee9ed1f",
   "metadata": {
    "execution": {
     "iopub.execute_input": "2022-07-16T15:20:28.322030Z",
     "iopub.status.busy": "2022-07-16T15:20:28.321283Z",
     "iopub.status.idle": "2022-07-16T15:20:28.335667Z",
     "shell.execute_reply": "2022-07-16T15:20:28.334404Z"
    },
    "papermill": {
     "duration": 0.037319,
     "end_time": "2022-07-16T15:20:28.337985",
     "exception": false,
     "start_time": "2022-07-16T15:20:28.300666",
     "status": "completed"
    },
    "tags": []
   },
   "outputs": [
    {
     "data": {
      "text/html": [
       "<div>\n",
       "<style scoped>\n",
       "    .dataframe tbody tr th:only-of-type {\n",
       "        vertical-align: middle;\n",
       "    }\n",
       "\n",
       "    .dataframe tbody tr th {\n",
       "        vertical-align: top;\n",
       "    }\n",
       "\n",
       "    .dataframe thead th {\n",
       "        text-align: right;\n",
       "    }\n",
       "</style>\n",
       "<table border=\"1\" class=\"dataframe\">\n",
       "  <thead>\n",
       "    <tr style=\"text-align: right;\">\n",
       "      <th></th>\n",
       "      <th>est_diameter_min</th>\n",
       "      <th>est_diameter_max</th>\n",
       "      <th>relative_velocity</th>\n",
       "      <th>miss_distance</th>\n",
       "      <th>absolute_magnitude</th>\n",
       "      <th>hazardous</th>\n",
       "      <th>year</th>\n",
       "    </tr>\n",
       "  </thead>\n",
       "  <tbody>\n",
       "    <tr>\n",
       "      <th>0</th>\n",
       "      <td>1.198271</td>\n",
       "      <td>2.679415</td>\n",
       "      <td>13569.249224</td>\n",
       "      <td>5.483974e+07</td>\n",
       "      <td>16.73</td>\n",
       "      <td>0</td>\n",
       "      <td>2000</td>\n",
       "    </tr>\n",
       "    <tr>\n",
       "      <th>1</th>\n",
       "      <td>0.265800</td>\n",
       "      <td>0.594347</td>\n",
       "      <td>73588.726663</td>\n",
       "      <td>6.143813e+07</td>\n",
       "      <td>20.00</td>\n",
       "      <td>1</td>\n",
       "      <td>2005</td>\n",
       "    </tr>\n",
       "    <tr>\n",
       "      <th>2</th>\n",
       "      <td>0.722030</td>\n",
       "      <td>1.614507</td>\n",
       "      <td>114258.692129</td>\n",
       "      <td>4.979872e+07</td>\n",
       "      <td>17.83</td>\n",
       "      <td>0</td>\n",
       "      <td>2015</td>\n",
       "    </tr>\n",
       "    <tr>\n",
       "      <th>3</th>\n",
       "      <td>0.096506</td>\n",
       "      <td>0.215794</td>\n",
       "      <td>24764.303138</td>\n",
       "      <td>2.543497e+07</td>\n",
       "      <td>22.20</td>\n",
       "      <td>0</td>\n",
       "      <td>2012</td>\n",
       "    </tr>\n",
       "    <tr>\n",
       "      <th>4</th>\n",
       "      <td>0.255009</td>\n",
       "      <td>0.570217</td>\n",
       "      <td>42737.733765</td>\n",
       "      <td>4.627557e+07</td>\n",
       "      <td>20.09</td>\n",
       "      <td>1</td>\n",
       "      <td>2014</td>\n",
       "    </tr>\n",
       "  </tbody>\n",
       "</table>\n",
       "</div>"
      ],
      "text/plain": [
       "   est_diameter_min  est_diameter_max  relative_velocity  miss_distance  \\\n",
       "0          1.198271          2.679415       13569.249224   5.483974e+07   \n",
       "1          0.265800          0.594347       73588.726663   6.143813e+07   \n",
       "2          0.722030          1.614507      114258.692129   4.979872e+07   \n",
       "3          0.096506          0.215794       24764.303138   2.543497e+07   \n",
       "4          0.255009          0.570217       42737.733765   4.627557e+07   \n",
       "\n",
       "   absolute_magnitude  hazardous  year  \n",
       "0               16.73          0  2000  \n",
       "1               20.00          1  2005  \n",
       "2               17.83          0  2015  \n",
       "3               22.20          0  2012  \n",
       "4               20.09          1  2014  "
      ]
     },
     "execution_count": 31,
     "metadata": {},
     "output_type": "execute_result"
    }
   ],
   "source": [
    "df.head()"
   ]
  },
  {
   "cell_type": "code",
   "execution_count": 32,
   "id": "edbe7aa3",
   "metadata": {
    "execution": {
     "iopub.execute_input": "2022-07-16T15:20:28.376209Z",
     "iopub.status.busy": "2022-07-16T15:20:28.375477Z",
     "iopub.status.idle": "2022-07-16T15:20:28.407259Z",
     "shell.execute_reply": "2022-07-16T15:20:28.406086Z"
    },
    "papermill": {
     "duration": 0.053426,
     "end_time": "2022-07-16T15:20:28.409411",
     "exception": false,
     "start_time": "2022-07-16T15:20:28.355985",
     "status": "completed"
    },
    "tags": []
   },
   "outputs": [
    {
     "data": {
      "text/html": [
       "<div>\n",
       "<style scoped>\n",
       "    .dataframe tbody tr th:only-of-type {\n",
       "        vertical-align: middle;\n",
       "    }\n",
       "\n",
       "    .dataframe tbody tr th {\n",
       "        vertical-align: top;\n",
       "    }\n",
       "\n",
       "    .dataframe thead th {\n",
       "        text-align: right;\n",
       "    }\n",
       "</style>\n",
       "<table border=\"1\" class=\"dataframe\">\n",
       "  <thead>\n",
       "    <tr style=\"text-align: right;\">\n",
       "      <th></th>\n",
       "      <th>est_diameter_min</th>\n",
       "      <th>est_diameter_max</th>\n",
       "      <th>relative_velocity</th>\n",
       "      <th>miss_distance</th>\n",
       "      <th>absolute_magnitude</th>\n",
       "      <th>hazardous</th>\n",
       "      <th>year</th>\n",
       "    </tr>\n",
       "  </thead>\n",
       "  <tbody>\n",
       "    <tr>\n",
       "      <th>est_diameter_min</th>\n",
       "      <td>1.000000</td>\n",
       "      <td>1.000000</td>\n",
       "      <td>0.221553</td>\n",
       "      <td>0.142241</td>\n",
       "      <td>-0.560188</td>\n",
       "      <td>0.183363</td>\n",
       "      <td>-0.468348</td>\n",
       "    </tr>\n",
       "    <tr>\n",
       "      <th>est_diameter_max</th>\n",
       "      <td>1.000000</td>\n",
       "      <td>1.000000</td>\n",
       "      <td>0.221553</td>\n",
       "      <td>0.142241</td>\n",
       "      <td>-0.560188</td>\n",
       "      <td>0.183363</td>\n",
       "      <td>-0.468348</td>\n",
       "    </tr>\n",
       "    <tr>\n",
       "      <th>relative_velocity</th>\n",
       "      <td>0.221553</td>\n",
       "      <td>0.221553</td>\n",
       "      <td>1.000000</td>\n",
       "      <td>0.327169</td>\n",
       "      <td>-0.353863</td>\n",
       "      <td>0.191185</td>\n",
       "      <td>-0.128262</td>\n",
       "    </tr>\n",
       "    <tr>\n",
       "      <th>miss_distance</th>\n",
       "      <td>0.142241</td>\n",
       "      <td>0.142241</td>\n",
       "      <td>0.327169</td>\n",
       "      <td>1.000000</td>\n",
       "      <td>-0.264168</td>\n",
       "      <td>0.042302</td>\n",
       "      <td>-0.101514</td>\n",
       "    </tr>\n",
       "    <tr>\n",
       "      <th>absolute_magnitude</th>\n",
       "      <td>-0.560188</td>\n",
       "      <td>-0.560188</td>\n",
       "      <td>-0.353863</td>\n",
       "      <td>-0.264168</td>\n",
       "      <td>1.000000</td>\n",
       "      <td>-0.365267</td>\n",
       "      <td>0.517477</td>\n",
       "    </tr>\n",
       "    <tr>\n",
       "      <th>hazardous</th>\n",
       "      <td>0.183363</td>\n",
       "      <td>0.183363</td>\n",
       "      <td>0.191185</td>\n",
       "      <td>0.042302</td>\n",
       "      <td>-0.365267</td>\n",
       "      <td>1.000000</td>\n",
       "      <td>-0.269807</td>\n",
       "    </tr>\n",
       "    <tr>\n",
       "      <th>year</th>\n",
       "      <td>-0.468348</td>\n",
       "      <td>-0.468348</td>\n",
       "      <td>-0.128262</td>\n",
       "      <td>-0.101514</td>\n",
       "      <td>0.517477</td>\n",
       "      <td>-0.269807</td>\n",
       "      <td>1.000000</td>\n",
       "    </tr>\n",
       "  </tbody>\n",
       "</table>\n",
       "</div>"
      ],
      "text/plain": [
       "                    est_diameter_min  est_diameter_max  relative_velocity  \\\n",
       "est_diameter_min            1.000000          1.000000           0.221553   \n",
       "est_diameter_max            1.000000          1.000000           0.221553   \n",
       "relative_velocity           0.221553          0.221553           1.000000   \n",
       "miss_distance               0.142241          0.142241           0.327169   \n",
       "absolute_magnitude         -0.560188         -0.560188          -0.353863   \n",
       "hazardous                   0.183363          0.183363           0.191185   \n",
       "year                       -0.468348         -0.468348          -0.128262   \n",
       "\n",
       "                    miss_distance  absolute_magnitude  hazardous      year  \n",
       "est_diameter_min         0.142241           -0.560188   0.183363 -0.468348  \n",
       "est_diameter_max         0.142241           -0.560188   0.183363 -0.468348  \n",
       "relative_velocity        0.327169           -0.353863   0.191185 -0.128262  \n",
       "miss_distance            1.000000           -0.264168   0.042302 -0.101514  \n",
       "absolute_magnitude      -0.264168            1.000000  -0.365267  0.517477  \n",
       "hazardous                0.042302           -0.365267   1.000000 -0.269807  \n",
       "year                    -0.101514            0.517477  -0.269807  1.000000  "
      ]
     },
     "execution_count": 32,
     "metadata": {},
     "output_type": "execute_result"
    }
   ],
   "source": [
    "#Checking co-relation\n",
    "df.corr()"
   ]
  },
  {
   "cell_type": "code",
   "execution_count": 33,
   "id": "5f7e92d5",
   "metadata": {
    "execution": {
     "iopub.execute_input": "2022-07-16T15:20:28.447603Z",
     "iopub.status.busy": "2022-07-16T15:20:28.446866Z",
     "iopub.status.idle": "2022-07-16T15:20:28.771698Z",
     "shell.execute_reply": "2022-07-16T15:20:28.770472Z"
    },
    "papermill": {
     "duration": 0.346603,
     "end_time": "2022-07-16T15:20:28.774190",
     "exception": false,
     "start_time": "2022-07-16T15:20:28.427587",
     "status": "completed"
    },
    "tags": []
   },
   "outputs": [
    {
     "data": {
      "image/png": "[encoded data removed]",
      "text/plain": [
       "<Figure size 720x576 with 2 Axes>"
      ]
     },
     "metadata": {
      "needs_background": "light"
     },
     "output_type": "display_data"
    }
   ],
   "source": [
    "sns.heatmap(df.corr(),cmap='YlGnBu')\n",
    "plt.show()"
   ]
  },
  {
   "cell_type": "code",
   "execution_count": 34,
   "id": "b44f4f0d",
   "metadata": {
    "execution": {
     "iopub.execute_input": "2022-07-16T15:20:28.814049Z",
     "iopub.status.busy": "2022-07-16T15:20:28.813373Z",
     "iopub.status.idle": "2022-07-16T15:20:28.821345Z",
     "shell.execute_reply": "2022-07-16T15:20:28.820554Z"
    },
    "papermill": {
     "duration": 0.030523,
     "end_time": "2022-07-16T15:20:28.823506",
     "exception": false,
     "start_time": "2022-07-16T15:20:28.792983",
     "status": "completed"
    },
    "tags": []
   },
   "outputs": [],
   "source": [
    "# dropping year column as it has no effect on hazardous\n",
    "df.drop(columns='year',inplace=True)"
   ]
  },
  {
   "cell_type": "markdown",
   "id": "134bf1b1",
   "metadata": {
    "papermill": {
     "duration": 0.018205,
     "end_time": "2022-07-16T15:20:28.860091",
     "exception": false,
     "start_time": "2022-07-16T15:20:28.841886",
     "status": "completed"
    },
    "tags": []
   },
   "source": [
    "## Splitting and Scaling of the data"
   ]
  },
  {
   "cell_type": "code",
   "execution_count": 35,
   "id": "47ebf365",
   "metadata": {
    "execution": {
     "iopub.execute_input": "2022-07-16T15:20:28.899040Z",
     "iopub.status.busy": "2022-07-16T15:20:28.898617Z",
     "iopub.status.idle": "2022-07-16T15:20:29.095848Z",
     "shell.execute_reply": "2022-07-16T15:20:29.094955Z"
    },
    "papermill": {
     "duration": 0.219888,
     "end_time": "2022-07-16T15:20:29.098465",
     "exception": false,
     "start_time": "2022-07-16T15:20:28.878577",
     "status": "completed"
    },
    "tags": []
   },
   "outputs": [],
   "source": [
    "# Splitting the data\n",
    "from sklearn.model_selection import train_test_split\n",
    "X = df.drop(columns='hazardous')\n",
    "Y=df.loc[:,'hazardous']\n",
    "X_train,X_test,Y_train,Y_test=train_test_split(X,Y,random_state=0,train_size=0.75)"
   ]
  },
  {
   "cell_type": "code",
   "execution_count": 36,
   "id": "f9080161",
   "metadata": {
    "execution": {
     "iopub.execute_input": "2022-07-16T15:20:29.137760Z",
     "iopub.status.busy": "2022-07-16T15:20:29.136680Z",
     "iopub.status.idle": "2022-07-16T15:20:29.153980Z",
     "shell.execute_reply": "2022-07-16T15:20:29.153204Z"
    },
    "papermill": {
     "duration": 0.039575,
     "end_time": "2022-07-16T15:20:29.156447",
     "exception": false,
     "start_time": "2022-07-16T15:20:29.116872",
     "status": "completed"
    },
    "tags": []
   },
   "outputs": [],
   "source": [
    "from sklearn.preprocessing import StandardScaler\n",
    "sc=StandardScaler() # Machine Instance\n",
    "train_scaled=pd.DataFrame(sc.fit_transform(X_train)) # Scaling the train set\n",
    "test_scaled=pd.DataFrame(sc.transform(X_test)) # Scaling the test set"
   ]
  },
  {
   "cell_type": "markdown",
   "id": "7ccd1acc",
   "metadata": {
    "papermill": {
     "duration": 0.018359,
     "end_time": "2022-07-16T15:20:29.193152",
     "exception": false,
     "start_time": "2022-07-16T15:20:29.174793",
     "status": "completed"
    },
    "tags": []
   },
   "source": [
    "## Decision Tree Classifier"
   ]
  },
  {
   "cell_type": "code",
   "execution_count": 37,
   "id": "b60bc40b",
   "metadata": {
    "execution": {
     "iopub.execute_input": "2022-07-16T15:20:29.232090Z",
     "iopub.status.busy": "2022-07-16T15:20:29.231356Z",
     "iopub.status.idle": "2022-07-16T15:20:29.378253Z",
     "shell.execute_reply": "2022-07-16T15:20:29.377121Z"
    },
    "papermill": {
     "duration": 0.169757,
     "end_time": "2022-07-16T15:20:29.381280",
     "exception": false,
     "start_time": "2022-07-16T15:20:29.211523",
     "status": "completed"
    },
    "tags": []
   },
   "outputs": [],
   "source": [
    "# Importing Decision Tree Classifier for predictions and accuracy_score to check accuracy\n",
    "from sklearn.tree import DecisionTreeClassifier\n",
    "from sklearn.metrics import accuracy_score"
   ]
  },
  {
   "cell_type": "code",
   "execution_count": 38,
   "id": "e49ea2b9",
   "metadata": {
    "execution": {
     "iopub.execute_input": "2022-07-16T15:20:29.420405Z",
     "iopub.status.busy": "2022-07-16T15:20:29.419654Z",
     "iopub.status.idle": "2022-07-16T15:20:29.766276Z",
     "shell.execute_reply": "2022-07-16T15:20:29.765374Z"
    },
    "papermill": {
     "duration": 0.369045,
     "end_time": "2022-07-16T15:20:29.768850",
     "exception": false,
     "start_time": "2022-07-16T15:20:29.399805",
     "status": "completed"
    },
    "tags": []
   },
   "outputs": [],
   "source": [
    "model=DecisionTreeClassifier() # Machine Instance\n",
    "model.fit(train_scaled,Y_train) # Traing the model\n",
    "\n",
    "predictions_train=model.predict(train_scaled) # Predicting for train set\n",
    "acc_train=accuracy_score(Y_train,predictions_train) # Calculating accuracy\n",
    "\n",
    "\n",
    "predictions_test=model.predict(test_scaled) # Predicting on test set\n",
    "acc_test=accuracy_score(Y_test,predictions_test) # Calculating accuracy"
   ]
  },
  {
   "cell_type": "code",
   "execution_count": 39,
   "id": "301c0aec",
   "metadata": {
    "execution": {
     "iopub.execute_input": "2022-07-16T15:20:29.807352Z",
     "iopub.status.busy": "2022-07-16T15:20:29.806974Z",
     "iopub.status.idle": "2022-07-16T15:20:29.814408Z",
     "shell.execute_reply": "2022-07-16T15:20:29.813018Z"
    },
    "papermill": {
     "duration": 0.030077,
     "end_time": "2022-07-16T15:20:29.817416",
     "exception": false,
     "start_time": "2022-07-16T15:20:29.787339",
     "status": "completed"
    },
    "tags": []
   },
   "outputs": [
    {
     "name": "stdout",
     "output_type": "stream",
     "text": [
      "Accuracy of predictions on train data: 100.0 %\n",
      "Accuracy of predictions on test data: 89.47 %\n"
     ]
    }
   ],
   "source": [
    "print('Accuracy of predictions on train data:',round(acc_train*100,2),'%')\n",
    "print('Accuracy of predictions on test data:',round(acc_test*100,2),'%')"
   ]
  },
  {
   "cell_type": "markdown",
   "id": "0c9e7e0e",
   "metadata": {
    "papermill": {
     "duration": 0.018322,
     "end_time": "2022-07-16T15:20:29.854759",
     "exception": false,
     "start_time": "2022-07-16T15:20:29.836437",
     "status": "completed"
    },
    "tags": []
   },
   "source": [
    "## Logistic Regression"
   ]
  },
  {
   "cell_type": "code",
   "execution_count": 40,
   "id": "b8b19cfd",
   "metadata": {
    "execution": {
     "iopub.execute_input": "2022-07-16T15:20:29.893856Z",
     "iopub.status.busy": "2022-07-16T15:20:29.893476Z",
     "iopub.status.idle": "2022-07-16T15:20:30.038157Z",
     "shell.execute_reply": "2022-07-16T15:20:30.036859Z"
    },
    "papermill": {
     "duration": 0.168323,
     "end_time": "2022-07-16T15:20:30.041748",
     "exception": false,
     "start_time": "2022-07-16T15:20:29.873425",
     "status": "completed"
    },
    "tags": []
   },
   "outputs": [],
   "source": [
    "from sklearn.linear_model import LogisticRegression # Importing Logistic Regression model\n",
    "\n",
    "model_lr=LogisticRegression() # Machine Instance\n",
    "model_lr.fit(train_scaled,Y_train)# Training the model\n",
    "\n",
    "# Predictions made\n",
    "predict_train=model_lr.predict(train_scaled)\n",
    "predict_test=model_lr.predict(test_scaled)\n",
    "\n",
    "# Accuracy Calculation\n",
    "acc_train=accuracy_score(predict_train,Y_train)\n",
    "acc_test=accuracy_score(predict_test,Y_test)"
   ]
  },
  {
   "cell_type": "code",
   "execution_count": 41,
   "id": "e0828f5f",
   "metadata": {
    "execution": {
     "iopub.execute_input": "2022-07-16T15:20:30.117919Z",
     "iopub.status.busy": "2022-07-16T15:20:30.117369Z",
     "iopub.status.idle": "2022-07-16T15:20:30.130043Z",
     "shell.execute_reply": "2022-07-16T15:20:30.128768Z"
    },
    "papermill": {
     "duration": 0.055951,
     "end_time": "2022-07-16T15:20:30.133767",
     "exception": false,
     "start_time": "2022-07-16T15:20:30.077816",
     "status": "completed"
    },
    "tags": []
   },
   "outputs": [
    {
     "name": "stdout",
     "output_type": "stream",
     "text": [
      "Accuracy of predictions on Train set: 90.21 %\n",
      "Accuracy of predictions on Test set: 90.25 %\n"
     ]
    }
   ],
   "source": [
    "print('Accuracy of predictions on Train set:',round(acc_train*100,2),'%')\n",
    "print('Accuracy of predictions on Test set:',round(acc_test*100,2),'%')"
   ]
  },
  {
   "cell_type": "markdown",
   "id": "25bacd38",
   "metadata": {
    "papermill": {
     "duration": 0.01845,
     "end_time": "2022-07-16T15:20:30.174257",
     "exception": false,
     "start_time": "2022-07-16T15:20:30.155807",
     "status": "completed"
    },
    "tags": []
   },
   "source": [
    "## Random Forest Classifier"
   ]
  },
  {
   "cell_type": "code",
   "execution_count": 42,
   "id": "09f660cc",
   "metadata": {
    "execution": {
     "iopub.execute_input": "2022-07-16T15:20:30.212827Z",
     "iopub.status.busy": "2022-07-16T15:20:30.212466Z",
     "iopub.status.idle": "2022-07-16T15:20:40.347333Z",
     "shell.execute_reply": "2022-07-16T15:20:40.346306Z"
    },
    "papermill": {
     "duration": 10.157271,
     "end_time": "2022-07-16T15:20:40.350218",
     "exception": false,
     "start_time": "2022-07-16T15:20:30.192947",
     "status": "completed"
    },
    "tags": []
   },
   "outputs": [],
   "source": [
    "from sklearn.ensemble import RandomForestClassifier\n",
    "model_rf=RandomForestClassifier() # Machine Instance\n",
    "model_rf.fit(train_scaled,Y_train)# Training the model\n",
    "\n",
    "# Predictions made\n",
    "predict_train=model_rf.predict(train_scaled)\n",
    "predict_test=model_rf.predict(test_scaled)\n",
    "\n",
    "# accuracy calculation\n",
    "acc_train=accuracy_score(predict_train,Y_train)\n",
    "acc_test=accuracy_score(predict_test,Y_test)"
   ]
  },
  {
   "cell_type": "code",
   "execution_count": 43,
   "id": "60479527",
   "metadata": {
    "execution": {
     "iopub.execute_input": "2022-07-16T15:20:40.390218Z",
     "iopub.status.busy": "2022-07-16T15:20:40.389387Z",
     "iopub.status.idle": "2022-07-16T15:20:40.395952Z",
     "shell.execute_reply": "2022-07-16T15:20:40.394755Z"
    },
    "papermill": {
     "duration": 0.029373,
     "end_time": "2022-07-16T15:20:40.398512",
     "exception": false,
     "start_time": "2022-07-16T15:20:40.369139",
     "status": "completed"
    },
    "tags": []
   },
   "outputs": [
    {
     "name": "stdout",
     "output_type": "stream",
     "text": [
      "Accuracy of predictions on Train set: 100.0 %\n",
      "Accuracy of predictions on Test set: 92.08 %\n"
     ]
    }
   ],
   "source": [
    "print('Accuracy of predictions on Train set:',round(acc_train*100,2),'%')\n",
    "print('Accuracy of predictions on Test set:',round(acc_test*100,2),'%')"
   ]
  },
  {
   "cell_type": "code",
   "execution_count": null,
   "id": "841ad3e5",
   "metadata": {
    "papermill": {
     "duration": 0.018716,
     "end_time": "2022-07-16T15:20:40.436088",
     "exception": false,
     "start_time": "2022-07-16T15:20:40.417372",
     "status": "completed"
    },
    "tags": []
   },
   "outputs": [],
   "source": []
  }
 ],
 "metadata": {
  "kernelspec": {
   "display_name": "Python 3",
   "language": "python",
   "name": "python3"
  },
  "language_info": {
   "codemirror_mode": {
    "name": "ipython",
    "version": 3
   },
   "file_extension": ".py",
   "mimetype": "text/x-python",
   "name": "python",
   "nbconvert_exporter": "python",
   "pygments_lexer": "ipython3",
   "version": "3.7.12"
  },
  "papermill": {
   "default_parameters": {},
   "duration": 31.413467,
   "end_time": "2022-07-16T15:20:41.176204",
   "environment_variables": {},
   "exception": null,
   "input_path": "__notebook__.ipynb",
   "output_path": "__notebook__.ipynb",
   "parameters": {},
   "start_time": "2022-07-16T15:20:09.762737",
   "version": "2.3.4"
  }
 },
 "nbformat": 4,
 "nbformat_minor": 5
}
